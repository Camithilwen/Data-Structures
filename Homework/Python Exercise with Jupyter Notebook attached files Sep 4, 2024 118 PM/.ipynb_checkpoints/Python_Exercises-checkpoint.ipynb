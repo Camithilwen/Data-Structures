{
  "cells": [
    {
      "cell_type": "markdown",
      "metadata": {
        "id": "tUS2MMAHG7YZ"
      },
      "source": [
        "Some basic exercises to test your knowledge.\n",
        "\n",
        "First, create a comment (multiline or single) and write the date and your name. Then, try the following exercises.\n",
        "\n",
        "1. Print \"Hello World!\" Next, without doing any calculations, print seven to the power of four.\n",
        "\n"
      ]
    },
    {
      "cell_type": "code",
      "execution_count": null,
      "metadata": {
        "id": "lDDld6v9MRrT"
      },
      "outputs": [],
      "source": [
        "\"\"\"\n",
        "Jamie Kemman\n",
        "9/6/2024\n",
        "\"\"\"\n",
        "print(\"Hello, World!\")\n",
        "print(pow(7, 4))"
      ]
    },
    {
      "cell_type": "markdown",
      "metadata": {
        "id": "3X1ahl9oMaRG"
      },
      "source": [
        "2. Create an int variable, then convert it into a float.\n"
      ]
    },
    {
      "cell_type": "code",
      "execution_count": null,
      "metadata": {
        "id": "W9lX9RJDMasD"
      },
      "outputs": [],
      "source": [
        "x = 3\n",
        "x * 1.0\n",
        "print(x)"
      ]
    },
    {
      "cell_type": "markdown",
      "metadata": {
        "id": "tHkFTXxhMhoo"
      },
      "source": [
        "3. Initiate three variables in the same line.\n"
      ]
    },
    {
      "cell_type": "code",
      "execution_count": null,
      "metadata": {
        "id": "VzXCaTVIHVIZ"
      },
      "outputs": [],
      "source": [
        "x , y ,z = 1, 2, 3\n",
        "print(x, y, z)"
      ]
    },
    {
      "cell_type": "markdown",
      "metadata": {
        "id": "H03n0qp4MnYZ"
      },
      "source": [
        "4. Ask for an integer number, then print True if the number is even and False if the number is odd."
      ]
    },
    {
      "cell_type": "code",
      "execution_count": null,
      "metadata": {
        "id": "OdCKihj1Mqnt"
      },
      "outputs": [],
      "source": [
        "entry = input(int(\"Enter an integer:\"))\n",
        "if entry % 2 == 0:\n",
        "    print(\"True\")\n",
        "else:\n",
        "    print(\"False\")"
      ]
    },
    {
      "cell_type": "markdown",
      "metadata": {
        "id": "ff9bbVmaMrDe"
      },
      "source": [
        "5. Ask for the user's name, and then print how many letters are in their name.\n"
      ]
    },
    {
      "cell_type": "code",
      "execution_count": null,
      "metadata": {
        "id": "WrBzRj_c1Jyf"
      },
      "outputs": [],
      "source": [
        "name = input(\"Enter your name:\")\n",
        "print(name.count)"
      ]
    },
    {
      "cell_type": "markdown",
      "metadata": {
        "id": "tni2vTBeMtWh"
      },
      "source": [
        "6. Create a program that asks the user for two numbers and then prints the sum.\n"
      ]
    },
    {
      "cell_type": "code",
      "execution_count": null,
      "metadata": {
        "id": "pfLF1WJ0Mtq4"
      },
      "outputs": [],
      "source": [
        "num1 = input(\"Enter first number:\")\n",
        "num2 = input(\"Enter second number:\")\n",
        "print(num1 + num2)"
      ]
    },
    {
      "cell_type": "markdown",
      "metadata": {
        "id": "EgvR5R3G1NCg"
      },
      "source": [
        "7. Ask for an integer number, then print True if the number is even and False if the number is odd."
      ]
    },
    {
      "cell_type": "code",
      "execution_count": null,
      "metadata": {
        "id": "QgB5pMZzMtCM"
      },
      "outputs": [],
      "source": [
        "entry = input(int(\"Enter an integer:\"))\n",
        "if entry % 2 == 0:\n",
        "    print(\"True\")\n",
        "else:\n",
        "    print(\"False\")"
      ]
    },
    {
      "cell_type": "markdown",
      "metadata": {
        "id": "CnmaVp6i1Ua7"
      },
      "source": [
        "8. Ask for an integer number, then calculate the sum of all numbers from 1 to that number."
      ]
    },
    {
      "cell_type": "code",
      "execution_count": null,
      "metadata": {
        "id": "UNXovUfp2Xgn"
      },
      "outputs": [],
      "source": [
        "entry = input(int(\"Enter a number: \"))\n",
        "counter = 1\n",
        "sum = 1\n",
        "while counter < entry:\n",
        "    sum = sum + (sum + 1)\n",
        "    counter = counter + 1\n",
        "    "
      ]
    },
    {
      "cell_type": "markdown",
      "metadata": {
        "id": "6NAnWaxZ2lx2"
      },
      "source": [
        "9. Prompt the user to input \"Hi!\". If they type something else, prompt them again until they do so."
      ]
    },
    {
      "cell_type": "code",
      "execution_count": 3,
      "metadata": {
        "id": "O8cPGFhh2d4L"
      },
      "outputs": [],
      "source": []
    },
    {
      "cell_type": "markdown",
      "metadata": {
        "id": "ogllBjTt3YzP"
      },
      "source": [
        "10. Create rock, paper, scissors. However, in this version, the computer always wins. For example, if the user enters \"rock\", print \"I picked paper! I win.\" If the user doesn't input a valid choice, print \"invalid choice.\""
      ]
    },
    {
      "cell_type": "code",
      "execution_count": 5,
      "metadata": {
        "id": "Tl0vkBFd38bc"
      },
      "outputs": [],
      "source": []
    },
    {
      "cell_type": "markdown",
      "metadata": {
        "id": "OdYQb89C4r9H"
      },
      "source": [
        "11. Create a function that takes in three integer parameters and returns the maximum. Next, call the function and print the result."
      ]
    },
    {
      "cell_type": "code",
      "execution_count": null,
      "metadata": {
        "id": "be9GMKhS-6kD"
      },
      "outputs": [],
      "source": []
    }
  ],
  "metadata": {
    "colab": {
      "provenance": []
    },
    "kernelspec": {
      "display_name": "Python 3",
      "name": "python3"
    },
    "language_info": {
      "name": "python"
    }
  },
  "nbformat": 4,
  "nbformat_minor": 0
}
