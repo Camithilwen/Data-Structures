{
 "cells": [
  {
   "cell_type": "markdown",
   "metadata": {
    "id": "tUS2MMAHG7YZ"
   },
   "source": [
    "Some basic exercises to test your knowledge.\n",
    "\n",
    "First, create a comment (multiline or single) and write the date and your name. Then, try the following exercises.\n",
    "\n",
    "1. Print \"Hello World!\" Next, without doing any calculations, print seven to the power of four.\n",
    "\n"
   ]
  },
  {
   "cell_type": "code",
   "execution_count": null,
   "metadata": {
    "id": "lDDld6v9MRrT"
   },
   "outputs": [],
   "source": [
    "\"\"\"\n",
    "Jamie Kemman\n",
    "9/6/2024\n",
    "\"\"\"\n",
    "print(\"Hello, World!\")\n",
    "print(pow(7, 4))"
   ]
  },
  {
   "cell_type": "markdown",
   "metadata": {
    "id": "3X1ahl9oMaRG"
   },
   "source": [
    "2. Create an int variable, then convert it into a float.\n"
   ]
  },
  {
   "cell_type": "code",
   "execution_count": null,
   "metadata": {
    "id": "W9lX9RJDMasD"
   },
   "outputs": [],
   "source": [
    "x = 3\n",
    "x * 1.0\n",
    "print(x)"
   ]
  },
  {
   "cell_type": "markdown",
   "metadata": {
    "id": "tHkFTXxhMhoo"
   },
   "source": [
    "3. Initiate three variables in the same line.\n"
   ]
  },
  {
   "cell_type": "code",
   "execution_count": null,
   "metadata": {
    "id": "VzXCaTVIHVIZ"
   },
   "outputs": [],
   "source": [
    "x , y ,z = 1, 2, 3\n",
    "print(x, y, z)"
   ]
  },
  {
   "cell_type": "markdown",
   "metadata": {
    "id": "H03n0qp4MnYZ"
   },
   "source": [
    "4. Ask for an integer number, then print True if the number is even and False if the number is odd."
   ]
  },
  {
   "cell_type": "code",
   "execution_count": 22,
   "metadata": {
    "id": "OdCKihj1Mqnt"
   },
   "outputs": [
    {
     "name": "stdout",
     "output_type": "stream",
     "text": [
      "Enter an integer: 20\n"
     ]
    },
    {
     "name": "stdout",
     "output_type": "stream",
     "text": [
      "True\n"
     ]
    }
   ],
   "source": [
    "entry = int(input(\"Enter an integer:\"))\n",
    "if entry % 2 == 0:\n",
    "    print(\"True\")\n",
    "else:\n",
    "    print(\"False\")"
   ]
  },
  {
   "cell_type": "markdown",
   "metadata": {
    "id": "ff9bbVmaMrDe"
   },
   "source": [
    "5. Ask for the user's name, and then print how many letters are in their name.\n"
   ]
  },
  {
   "cell_type": "code",
   "execution_count": 16,
   "metadata": {
    "id": "WrBzRj_c1Jyf"
   },
   "outputs": [
    {
     "name": "stdout",
     "output_type": "stream",
     "text": [
      "Enter your name: jamie\n"
     ]
    },
    {
     "ename": "AttributeError",
     "evalue": "'str' object has no attribute 'length'",
     "output_type": "error",
     "traceback": [
      "\u001b[0;31m---------------------------------------------------------------------------\u001b[0m",
      "\u001b[0;31mAttributeError\u001b[0m                            Traceback (most recent call last)",
      "Cell \u001b[0;32mIn[16], line 2\u001b[0m\n\u001b[1;32m      1\u001b[0m name \u001b[38;5;241m=\u001b[39m \u001b[38;5;28minput\u001b[39m(\u001b[38;5;124m\"\u001b[39m\u001b[38;5;124mEnter your name:\u001b[39m\u001b[38;5;124m\"\u001b[39m)\n\u001b[0;32m----> 2\u001b[0m \u001b[38;5;28mprint\u001b[39m(\u001b[43mname\u001b[49m\u001b[38;5;241;43m.\u001b[39;49m\u001b[43mlength\u001b[49m)\n",
      "\u001b[0;31mAttributeError\u001b[0m: 'str' object has no attribute 'length'"
     ]
    }
   ],
   "source": [
    "name = input(\"Enter your name:\")\n",
    "print(len(name))"
   ]
  },
  {
   "cell_type": "markdown",
   "metadata": {
    "id": "tni2vTBeMtWh"
   },
   "source": [
    "6. Create a program that asks the user for two numbers and then prints the sum.\n"
   ]
  },
  {
   "cell_type": "code",
   "execution_count": 21,
   "metadata": {
    "id": "pfLF1WJ0Mtq4"
   },
   "outputs": [
    {
     "name": "stdout",
     "output_type": "stream",
     "text": [
      "Enter first number: 2\n",
      "Enter second number: 3\n"
     ]
    },
    {
     "name": "stdout",
     "output_type": "stream",
     "text": [
      "5\n"
     ]
    }
   ],
   "source": [
    "num1 = int(input(\"Enter first number:\"))\n",
    "num2 = int(input(\"Enter second number:\"))\n",
    "sum = num1 + num2\n",
    "print(sum)"
   ]
  },
  {
   "cell_type": "markdown",
   "metadata": {
    "id": "EgvR5R3G1NCg"
   },
   "source": [
    "7. Ask for an integer number, then print True if the number is even and False if the number is odd."
   ]
  },
  {
   "cell_type": "code",
   "execution_count": 11,
   "metadata": {
    "id": "QgB5pMZzMtCM"
   },
   "outputs": [
    {
     "name": "stdout",
     "output_type": "stream",
     "text": [
      "Enter an integer: 37\n"
     ]
    },
    {
     "name": "stdout",
     "output_type": "stream",
     "text": [
      "False\n"
     ]
    }
   ],
   "source": [
    "entry = int(input(\"Enter an integer:\"))\n",
    "if entry % 2 == 0:\n",
    "    print(\"True\")\n",
    "else:\n",
    "    print(\"False\")"
   ]
  },
  {
   "cell_type": "markdown",
   "metadata": {
    "id": "CnmaVp6i1Ua7"
   },
   "source": [
    "8. Ask for an integer number, then calculate the sum of all numbers from 1 to that number."
   ]
  },
  {
   "cell_type": "code",
   "execution_count": null,
   "metadata": {
    "id": "UNXovUfp2Xgn"
   },
   "outputs": [
    {
     "ename": "",
     "evalue": "",
     "output_type": "error",
     "traceback": [
      "\u001b[1;31mRunning cells with 'Python 3.11.9' requires the ipykernel package.\n",
      "\u001b[1;31mRun the following command to install 'ipykernel' into the Python environment. \n",
      "\u001b[1;31mCommand: '/run/current-system/sw/bin/python -m pip install ipykernel -U --user --force-reinstall'"
     ]
    }
   ],
   "source": [
    "entry = int(input(\"Enter a number: \"))\n",
    "counter = 1\n",
    "sum = 1\n",
    "while counter < entry:\n",
    "    if sum >= 1:\n",
    "        sum = sum + (counter + 1)\n",
    "        counter = counter + 1\n",
    "    \n",
    "print(sum)"
   ]
  },
  {
   "cell_type": "markdown",
   "metadata": {
    "id": "6NAnWaxZ2lx2"
   },
   "source": [
    "9. Prompt the user to input \"Hi!\". If they type something else, prompt them again until they do so."
   ]
  },
  {
   "cell_type": "code",
   "execution_count": 12,
   "metadata": {
    "id": "O8cPGFhh2d4L"
   },
   "outputs": [
    {
     "name": "stdout",
     "output_type": "stream",
     "text": [
      "Say Hi! :  Hey\n"
     ]
    },
    {
     "name": "stdout",
     "output_type": "stream",
     "text": [
      "You didnt't say Hi! :(\n"
     ]
    },
    {
     "name": "stdout",
     "output_type": "stream",
     "text": [
      "Say Hi! :  Hi!\n"
     ]
    }
   ],
   "source": [
    "def hi():\n",
    "    hi = input(\"Say Hi! : \")\n",
    "    return hi\n",
    "entry = hi()\n",
    "while entry != \"Hi!\":\n",
    "    print(\"You didnt't say Hi! :(\")\n",
    "    entry = hi()"
   ]
  },
  {
   "cell_type": "markdown",
   "metadata": {
    "id": "ogllBjTt3YzP"
   },
   "source": [
    "10. Create rock, paper, scissors. However, in this version, the computer always wins. For example, if the user enters \"rock\", print \"I picked paper! I win.\" If the user doesn't input a valid choice, print \"invalid choice.\""
   ]
  },
  {
   "cell_type": "code",
   "execution_count": 24,
   "metadata": {
    "id": "Tl0vkBFd38bc"
   },
   "outputs": [
    {
     "name": "stdin",
     "output_type": "stream",
     "text": [
      "Let's play rock, paper, scissors! What do you pick? :  aaa\n"
     ]
    },
    {
     "name": "stdout",
     "output_type": "stream",
     "text": [
      "You didn't enter a valid choice :(\n"
     ]
    }
   ],
   "source": [
    "entry = input(\"Let's play rock, paper, scissors! What do you pick? : \")\n",
    "if \"rock\" in entry or \"Rock\" in entry:\n",
    "    print(\"I picked paper! I win!\")\n",
    "elif \"paper\" in entry or \"Paper\" in entry:\n",
    "    print(\"I picked scissors! I win!\")\n",
    "elif \"scissors\" in entry or \"Scissors\" in entry:\n",
    "    print(\"I picked rock! I win!\")\n",
    "else:\n",
    "    print(\"You didn't enter a valid choice :(\")"
   ]
  },
  {
   "cell_type": "markdown",
   "metadata": {
    "id": "OdYQb89C4r9H"
   },
   "source": [
    "11. Create a function that takes in three integer parameters and returns the maximum. Next, call the function and print the result."
   ]
  },
  {
   "cell_type": "code",
   "execution_count": 31,
   "metadata": {
    "id": "be9GMKhS-6kD"
   },
   "outputs": [
    {
     "name": "stdout",
     "output_type": "stream",
     "text": [
      "3\n"
     ]
    }
   ],
   "source": [
    "def findMax(x, y, z):\n",
    "    if x > y and x > z:\n",
    "        return x\n",
    "    elif y > x and y > z:\n",
    "        return y\n",
    "    elif z > x and z > y:\n",
    "        return z\n",
    "    else:\n",
    "        print(\"values are equal.\")\n",
    "\n",
    "test = findMax(1,2,3)\n",
    "print(test)"
   ]
  }
 ],
 "metadata": {
  "colab": {
   "provenance": []
  },
  "kernelspec": {
   "display_name": "Python 3 (ipykernel)",
   "language": "python",
   "name": "python3"
  },
  "language_info": {
   "codemirror_mode": {
    "name": "ipython",
    "version": 3
   },
   "file_extension": ".py",
   "mimetype": "text/x-python",
   "name": "python",
   "nbconvert_exporter": "python",
   "pygments_lexer": "ipython3",
   "version": "3.11.9"
  }
 },
 "nbformat": 4,
 "nbformat_minor": 4
}
