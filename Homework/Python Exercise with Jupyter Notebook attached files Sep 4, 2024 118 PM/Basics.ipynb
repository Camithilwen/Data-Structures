{
 "cells": [
  {
   "cell_type": "code",
   "execution_count": 1,
   "metadata": {
    "colab": {
     "base_uri": "https://localhost:8080/",
     "height": 53
    },
    "id": "6egSeHBuNsYQ",
    "outputId": "7caf643f-e4e6-4e5d-8967-5cca12694888"
   },
   "outputs": [
    {
     "name": "stdout",
     "output_type": "stream",
     "text": [
      "1 2\n",
      "After swapping:  2 1\n"
     ]
    }
   ],
   "source": [
    "x = 1 # this is a variable\n",
    "x, y = 1, 2\n",
    "\"\"\"\n",
    "variable name rules:\n",
    "- must start with a letter or underscore\n",
    "- can only contain letters, numbers, and underscores\n",
    "- are case sensitive\n",
    "- camelCase is preferred\n",
    "- use good names\n",
    "- no keywords\n",
    "\"\"\"\n",
    "print(x,y)\n",
    "x, y = y, x\n",
    "print(\"After swapping: \", x, y)"
   ]
  },
  {
   "cell_type": "code",
   "execution_count": 2,
   "metadata": {
    "colab": {
     "base_uri": "https://localhost:8080/"
    },
    "id": "3bDliyQONMLK",
    "outputId": "c83aa439-e1c2-4cd9-b8a3-afb94013c323"
   },
   "outputs": [
    {
     "name": "stdout",
     "output_type": "stream",
     "text": [
      "Welcome to CIS 321!\n"
     ]
    }
   ],
   "source": [
    "# print function\n",
    "# Write a statement to print \"Welcome to CIS 321!\"\n",
    "print(\"Welcome to CIS 321!\")"
   ]
  },
  {
   "cell_type": "code",
   "execution_count": 3,
   "metadata": {
    "colab": {
     "base_uri": "https://localhost:8080/",
     "height": 53
    },
    "id": "eTgdOeLSNWfH",
    "outputId": "d7d0da37-72f5-495b-ea30-40ddfcd5e19f"
   },
   "outputs": [
    {
     "name": "stdout",
     "output_type": "stream",
     "text": [
      "What is your name? jamie\n"
     ]
    },
    {
     "name": "stdout",
     "output_type": "stream",
     "text": [
      "Hello  jamie !\n"
     ]
    }
   ],
   "source": [
    "# input function\n",
    "# Prompt the user to enter her/his name, then say \"Hello, <name>\"\n",
    "username = input(\"What is your name?\")\n",
    "print(\"Hello \", username, \"!\")"
   ]
  },
  {
   "cell_type": "code",
   "execution_count": 5,
   "metadata": {
    "id": "WL7FeIwB_DHg"
   },
   "outputs": [],
   "source": [
    "# initiate variables for the following data types: int, float, string, boolean\n",
    "x = 1\n",
    "y = 1.0\n",
    "z = \"one\"\n",
    "u = True"
   ]
  },
  {
   "cell_type": "code",
   "execution_count": 4,
   "metadata": {
    "colab": {
     "base_uri": "https://localhost:8080/"
    },
    "id": "dhsRNZrP_jDh",
    "outputId": "cb81f573-4ecb-4ba6-c7a0-4fa4cc3041e7"
   },
   "outputs": [
    {
     "name": "stdout",
     "output_type": "stream",
     "text": [
      "9.0\n"
     ]
    }
   ],
   "source": [
    "# operations between ints and floats result in floats\n",
    "x = 3 * 3.0\n",
    "print(x)"
   ]
  },
  {
   "cell_type": "code",
   "execution_count": 6,
   "metadata": {
    "colab": {
     "base_uri": "https://localhost:8080/"
    },
    "id": "5hAkPrms_pB0",
    "outputId": "79274acd-01d2-49d8-95ba-3fd6b4418869"
   },
   "outputs": [
    {
     "name": "stdout",
     "output_type": "stream",
     "text": [
      "True\n"
     ]
    }
   ],
   "source": [
    "# expressions can equate to booleans\n",
    "x = 3\n",
    "y = 3\n",
    "print(x == y)"
   ]
  },
  {
   "cell_type": "code",
   "execution_count": null,
   "metadata": {
    "colab": {
     "base_uri": "https://localhost:8080/"
    },
    "id": "YIqFyFEK2smv",
    "outputId": "2888e288-6e1b-46b3-d149-7e578cdfc318"
   },
   "outputs": [],
   "source": [
    "# basic operations\n"
   ]
  },
  {
   "cell_type": "code",
   "execution_count": 7,
   "metadata": {
    "colab": {
     "base_uri": "https://localhost:8080/"
    },
    "id": "2gqKtQXZ8v-Z",
    "outputId": "f24e2fdc-59a5-4a52-c34b-0ee69ba059de"
   },
   "outputs": [
    {
     "name": "stdout",
     "output_type": "stream",
     "text": [
      "Input a random number 3\n"
     ]
    },
    {
     "name": "stdout",
     "output_type": "stream",
     "text": [
      "<class 'str'>\n",
      "<class 'int'>\n"
     ]
    }
   ],
   "source": [
    "# casting\n",
    "x = input(\"Input a random number\")\n",
    "print(type(x))\n",
    "x = int(x)\n",
    "print(type(x))"
   ]
  },
  {
   "cell_type": "markdown",
   "metadata": {},
   "source": [
    "### containers\n",
    "list() <br>\n",
    "tuple() <br>\n",
    "set() <br>\n",
    "dict() <br>"
   ]
  },
  {
   "cell_type": "code",
   "execution_count": 9,
   "metadata": {},
   "outputs": [
    {
     "name": "stdout",
     "output_type": "stream",
     "text": [
      "1\n",
      "[True, 3.0]\n",
      "6\n",
      "[1, True, 3.0, 4, 'hi', 'hello', 5]\n"
     ]
    }
   ],
   "source": [
    "# the most common container is a list\n",
    "my_list = [1, True, 3.0, 4, \"hi\",[ \"hello\"]\n",
    "print(my_list[0])\n",
    "print(my_list[1:3])\n",
    "print(len(my_list))\n",
    "my_list.append(5)\n",
    "print(my_list)"
   ]
  },
  {
   "cell_type": "code",
   "execution_count": null,
   "metadata": {},
   "outputs": [],
   "source": [
    "# Tuple is not changeable\n",
    "my_tuple = (1, True, 3.0, 4, \"hi\")\n",
    "print(my_tuple[0])\n",
    "print(my_tuple[1:3])\n",
    "print(len(my_tuple))\n",
    "\n",
    "# new_tuple = my_tuple + 5 ?\n",
    "# print(new_tuple)"
   ]
  },
  {
   "cell_type": "code",
   "execution_count": null,
   "metadata": {
    "colab": {
     "base_uri": "https://localhost:8080/"
    },
    "id": "JyC93tX1-mth",
    "outputId": "fa6838b8-c6d2-4d8d-dec7-adb82875462c"
   },
   "outputs": [
    {
     "ename": "",
     "evalue": "",
     "output_type": "error",
     "traceback": [
      "\u001b[1;31mRunning cells with 'Python 3.11.9' requires the ipykernel package.\n",
      "\u001b[1;31mRun the following command to install 'ipykernel' into the Python environment. \n",
      "\u001b[1;31mCommand: '/run/current-system/sw/bin/python -m pip install ipykernel -U --user --force-reinstall'"
     ]
    }
   ],
   "source": [
    "# dictionaries\n",
    "my_dict = {\"key1\": \"value1\", \"key2\": \"value2\"}\n",
    "print(my_dict[\"key1\"])\n",
    "my_dict[\"key3\"] = \"value3\"\n",
    "print(my_dict)\n",
    "student1 = {\"name\": \"David\", \"Age\": 19, \"Major\": \"CIS\"}\n",
    "print(student1[\"name\"])"
   ]
  },
  {
   "cell_type": "code",
   "execution_count": null,
   "metadata": {},
   "outputs": [],
   "source": [
    "my_list = [1, True, 3.0, 4, \"hi\"]\n",
    "print(my_list[0])\n",
    "print(my_list[1:3])\n",
    "print(len(my_list))\n",
    "my_list.append(5)\n",
    "print(my_list)"
   ]
  }
 ],
 "metadata": {
  "colab": {
   "provenance": []
  },
  "kernelspec": {
   "display_name": "Python 3 (ipykernel)",
   "language": "python",
   "name": "python3"
  },
  "language_info": {
   "codemirror_mode": {
    "name": "ipython",
    "version": 3
   },
   "file_extension": ".py",
   "mimetype": "text/x-python",
   "name": "python",
   "nbconvert_exporter": "python",
   "pygments_lexer": "ipython3",
   "version": "3.11.9"
  },
  "vscode": {
   "interpreter": {
    "hash": "e586ce2d4724bc79f8b4482a041dc5a30d4282ab097a45e5eef600e94c886d57"
   }
  }
 },
 "nbformat": 4,
 "nbformat_minor": 4
}
