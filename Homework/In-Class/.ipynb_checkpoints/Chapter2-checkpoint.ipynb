{
 "cells": [
  {
   "cell_type": "code",
   "execution_count": 1,
   "metadata": {},
   "outputs": [
    {
     "name": "stdout",
     "output_type": "stream",
     "text": [
      "['H', 'e', 'l', 'l', 'o', ' ', 't', 'h', 'e', 'r', 'e']\n"
     ]
    }
   ],
   "source": [
    "#Convert a string to list\n",
    "msg = \"Hello there\"\n",
    "myList = list(msg)\n",
    "print(myList)"
   ]
  },
  {
   "cell_type": "code",
   "execution_count": 2,
   "metadata": {},
   "outputs": [
    {
     "name": "stdout",
     "output_type": "stream",
     "text": [
      "[1, 5, 9, 13, 17]\n",
      "(1, 5, 9, 13, 17)\n",
      "[1, 5, 9, 13, 17, 18]\n"
     ]
    }
   ],
   "source": [
    "#convert a list to tupe\n",
    "myList = list(range(1, 20, 4))\n",
    "print(myList)\n",
    "myTuple = tuple(myList)\n",
    "print(myTuple)\n",
    "myList.append(18)\n",
    "print(myList)\n"
   ]
  },
  {
   "cell_type": "code",
   "execution_count": null,
   "metadata": {},
   "outputs": [],
   "source": [
    "#cloning and equality\n",
    "list1 = [1,2,3,4]\n",
    "list2 = list(list1)\n",
    "print(list1 == list2)\n",
    "print(list1 is list2)"
   ]
  },
  {
   "cell_type": "code",
   "execution_count": null,
   "metadata": {},
   "outputs": [],
   "source": [
    "list1 = list(range(1, 10, 2))\n",
    "list2 = list1\n",
    "print(list1 is list2)"
   ]
  },
  {
   "cell_type": "code",
   "execution_count": null,
   "metadata": {},
   "outputs": [],
   "source": [
    "#Python map()\n",
    "def myfunc(a):\n",
    "  return len(a)\n",
    "\n",
    "x = map(myfunc, ('apple', 'banana', 'cherry'))\n",
    "\n",
    "print(x)\n",
    "\n",
    "#convert the map into a list, for readability:\n",
    "print(list(x))"
   ]
  },
  {
   "cell_type": "code",
   "execution_count": null,
   "metadata": {},
   "outputs": [],
   "source": [
    "# Function to return double of n\n",
    "def double(n):\n",
    "    return n * 2\n",
    "\n",
    "# Using map to double all numbers\n",
    "numbers = [5, 6, 7, 8]\n",
    "result = map(double, numbers)\n",
    "# result = map(lambda x: x*2, numbers)\n",
    "print(list(result))"
   ]
  },
  {
   "cell_type": "code",
   "execution_count": null,
   "metadata": {},
   "outputs": [],
   "source": [
    "#Python Reduce\n",
    "import functools\n",
    "\n",
    "# Define a list of numbers\n",
    "numbers = [1, 2, 3, 4]\n",
    "\n",
    "# Use reduce to compute the product of list elements\n",
    "product = functools.reduce(lambda x, y: x * y, numbers)\n",
    "print(\"Product of list elements:\", product)"
   ]
  },
  {
   "cell_type": "code",
   "execution_count": null,
   "metadata": {},
   "outputs": [],
   "source": [
    "# Define a function to check if a number is even\n",
    "def is_even(n):\n",
    "    return n % 2 == 0\n",
    "\n",
    "# Define a list of numbers\n",
    "numbers = [1, 2, 3, 4, 5, 6, 7, 8, 9, 10]\n",
    "\n",
    "# Use filter to filter out even numbers\n",
    "even_numbers = filter(is_even, numbers)\n",
    "print(\"Even numbers:\", list(even_numbers))  "
   ]
  },
  {
   "cell_type": "markdown",
   "metadata": {},
   "source": [
    "### What is Python Lambda?\n",
    "Check out the following link: https://www.w3schools.com/python/python_lambda.asp"
   ]
  }
 ],
 "metadata": {
  "kernelspec": {
   "display_name": "Python 3 (ipykernel)",
   "language": "python",
   "name": "python3"
  },
  "language_info": {
   "codemirror_mode": {
    "name": "ipython",
    "version": 3
   },
   "file_extension": ".py",
   "mimetype": "text/x-python",
   "name": "python",
   "nbconvert_exporter": "python",
   "pygments_lexer": "ipython3",
   "version": "3.11.9"
  },
  "vscode": {
   "interpreter": {
    "hash": "e586ce2d4724bc79f8b4482a041dc5a30d4282ab097a45e5eef600e94c886d57"
   }
  }
 },
 "nbformat": 4,
 "nbformat_minor": 4
}
